{
 "cells": [
  {
   "cell_type": "code",
   "execution_count": null,
   "id": "fe4dbf3f-8997-4d42-a9e7-77d174ead911",
   "metadata": {},
   "outputs": [],
   "source": [
    "The Easiest Way to Install PyTorch in Anaconda Python (on Both CPU and GPU)\n",
    "https://www.youtube.com/watch?v=STYdcBIT9H8"
   ]
  },
  {
   "cell_type": "code",
   "execution_count": 2,
   "id": "6ac90646-4267-4a71-85e2-9b3263eb40f3",
   "metadata": {},
   "outputs": [],
   "source": [
    "import torch"
   ]
  },
  {
   "cell_type": "code",
   "execution_count": 3,
   "id": "e8fd4127-d072-4e6d-8902-5415dd2def0f",
   "metadata": {},
   "outputs": [
    {
     "name": "stdout",
     "output_type": "stream",
     "text": [
      "CUDA is not available. PyTorch will use CPU for computations\n"
     ]
    }
   ],
   "source": [
    "# Check if the Pytorch is connected to GPU or CPU as Pytorch connected to GPU\n",
    "if torch.cuda.is_available():\n",
    "    print(\"CUDA is available. PyTorch can use GPU for computations.\")\n",
    "else:\n",
    "    print(\"CUDA is not available. PyTorch will use CPU for computations\")"
   ]
  },
  {
   "cell_type": "markdown",
   "id": "4eff4b5c-5934-4b25-b0f8-a382d4030294",
   "metadata": {},
   "source": [
    "What if I want to use CUDA in PyTorch > If CUDA is not available> download > CUDA Toolkit 12.5 Downloads, from > https://developer.nvidia.com/cuda-downloads?target_os=Windows&target_arch=x86_64&target_version=10&target_type=exe_local\n",
    "\n",
    "- Install the Nvidia CUDA to the local machine\n",
    "\n",
    "- Once installed successfully, open Anaconda prompt terminal> change the base environment to the PT environment created at Anaconda Navigator.\n",
    "- Activate the PT env: conda activate PT\n",
    "- Write the following command in the termianl >>>> *conda install pytorch torchvision torchaudio pytorch-cuda==12.1 -c pytorch -c nvidia*\n",
    "- Close the Jupyter notebook > Go to Anaconda Navigator > selected the environment > PT > Click on Jupyter Notebook to open(Come back here)\n",
    "- Use previous code to test if PyTorch is using GPU for computations.\n",
    "- If yes then it triggered the following message > CUDA is available. PyTorch can use GPU for computations"
   ]
  },
  {
   "cell_type": "markdown",
   "id": "318a3b0c-04e5-4c3c-ac42-7242bc1be0fc",
   "metadata": {},
   "source": []
  }
 ],
 "metadata": {
  "kernelspec": {
   "display_name": "Python 3 (ipykernel)",
   "language": "python",
   "name": "python3"
  },
  "language_info": {
   "codemirror_mode": {
    "name": "ipython",
    "version": 3
   },
   "file_extension": ".py",
   "mimetype": "text/x-python",
   "name": "python",
   "nbconvert_exporter": "python",
   "pygments_lexer": "ipython3",
   "version": "3.9.19"
  }
 },
 "nbformat": 4,
 "nbformat_minor": 5
}
